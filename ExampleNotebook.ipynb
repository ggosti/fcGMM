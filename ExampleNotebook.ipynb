{
 "cells": [
  {
   "cell_type": "code",
   "execution_count": null,
   "id": "7ea27c07-6b4c-4fbd-911c-12de51da26e6",
   "metadata": {},
   "outputs": [],
   "source": [
    "%matplotlib widget"
   ]
  },
  {
   "cell_type": "code",
   "execution_count": null,
   "id": "df100daa",
   "metadata": {},
   "outputs": [],
   "source": [
    "import os\n",
    "import fcGMM as gmm\n",
    "import matplotlib.pyplot as plt\n",
    "import numpy as np\n",
    "import fcsparser\n",
    "import pandas as pd"
   ]
  },
  {
   "cell_type": "markdown",
   "id": "3333c984",
   "metadata": {},
   "source": [
    "# Check if the fcs files are in the data folder\n",
    "\n",
    "List the files in the data folder, you should see the fcs files you want to analyze."
   ]
  },
  {
   "cell_type": "code",
   "execution_count": null,
   "id": "28c87415",
   "metadata": {},
   "outputs": [],
   "source": [
    "%ls data"
   ]
  },
  {
   "cell_type": "markdown",
   "id": "560cdc92",
   "metadata": {},
   "source": [
    "# Check the config file"
   ]
  },
  {
   "cell_type": "code",
   "execution_count": null,
   "id": "ed255bc8",
   "metadata": {},
   "outputs": [],
   "source": [
    "%ls *.dat"
   ]
  },
  {
   "cell_type": "code",
   "execution_count": null,
   "id": "5ad426b2",
   "metadata": {},
   "outputs": [],
   "source": [
    "!more dataCTV.dat"
   ]
  },
  {
   "cell_type": "code",
   "execution_count": null,
   "id": "b2a4dcc3",
   "metadata": {},
   "outputs": [],
   "source": [
    "dataDir = 'data/'\n",
    "fcsFileName = '29112021 high FSC_T 1 Day 1 pm.fcs'\n",
    "\n",
    "# channel names\n",
    "xlabel = 'V450-A'\n",
    "ylabel = None\n",
    "zlabel = None\n",
    "\n",
    "# set dimensions for gmm\n",
    "dim = 1"
   ]
  },
  {
   "cell_type": "markdown",
   "id": "0f8d77ab",
   "metadata": {},
   "source": [
    "# Run gatting strategy\n",
    "\n",
    "The gate parameters should be adjusted for your specific gatting strategy"
   ]
  },
  {
   "cell_type": "code",
   "execution_count": null,
   "id": "e264e3fd-7ce5-4dc3-86a4-87871a398459",
   "metadata": {},
   "outputs": [],
   "source": [
    "# gate paramenters\n",
    "th = 10**-11 #kernel density th\n",
    "fsca_lb = 47000\n",
    "fsca_hb = 250000\n",
    "ssca_lb = 5000\n",
    "ssca_hb = 250000"
   ]
  },
  {
   "cell_type": "code",
   "execution_count": null,
   "id": "c18d3873-d215-48e4-ab08-13b17ea35372",
   "metadata": {},
   "outputs": [],
   "source": [
    "meta, data = fcsparser.parse(dataDir+fcsFileName, meta_data_only=False, reformat_meta=True)\n",
    "print('data keys ',data.keys)\n",
    "\n",
    "x,y,z,data = gmm.removeZeros(data,xlabel,ylabel,zlabel)\n",
    "ssca = data['SSC-A']\n",
    "fsca = data['FSC-A']\n",
    "\n",
    "hss,hfs = ssca_hb, fsca_hb\n",
    "lss,lfs = ssca_lb , fsca_lb\n",
    "gate1 = (fsca<lfs)|(fsca>hfs)\n",
    "gate2 = (ssca<lss)|(ssca>hss)\n",
    "\n",
    "xx, yy,f,kernel = gmm.getKernel(fsca,ssca)\n",
    "\n",
    "th = th\n",
    "v = -np.log10(th)\n",
    "\n",
    "fig, ax = plt.subplots(1,1)\n",
    "#plt.subplots_adjust(left=0.15, bottom=0.35)\n",
    "xy = np.vstack([fsca,ssca])\n",
    "valK = kernel(xy)\n",
    "ax.scatter(fsca,ssca,s=1)\n",
    "ax.set_xlabel('fsca')\n",
    "ax.set_ylabel('ssca')\n",
    "ax.scatter(fsca,ssca,c=valK,s=1)\n",
    "ax.scatter(fsca[valK>th],ssca[valK>th],c=valK[valK>th])\n",
    "ax.scatter(fsca[gate1],ssca[gate1],c='red',s=1)\n",
    "ax.scatter(fsca[gate2],ssca[gate2],c='yellow',s=1)\n",
    "ax.axvline(fsca_hb)\n",
    "ax.axvline(fsca_lb)\n",
    "ax.axhline(ssca_hb)\n",
    "ax.axhline(ssca_lb)\n",
    "ax.set_title(fcsFileName)\n",
    "\n",
    "gateTh = (valK<th)\n",
    "graph,dfTh = gmm.prepData(x,y,z,ssca,fsca,gateTh,gate1,gate2,None,xlabel,ylabel,zlabel)"
   ]
  },
  {
   "cell_type": "code",
   "execution_count": null,
   "id": "055d6928-13be-48f9-88d7-1c67d2f6bb86",
   "metadata": {},
   "outputs": [],
   "source": [
    "dfTh"
   ]
  },
  {
   "cell_type": "code",
   "execution_count": null,
   "id": "65298dc5-cb08-492f-80d4-6b58f2b28fbe",
   "metadata": {},
   "outputs": [],
   "source": [
    "x"
   ]
  },
  {
   "cell_type": "markdown",
   "id": "b134f143",
   "metadata": {},
   "source": [
    "# Run Gaussian Mixture"
   ]
  },
  {
   "cell_type": "code",
   "execution_count": null,
   "id": "392a95ad-7724-46a9-a3a8-73401ac57124",
   "metadata": {},
   "outputs": [],
   "source": [
    "lx = 'log '+xlabel # V450-A'\n",
    "ly = None\n",
    "lz = None\n",
    "\n",
    "time = '24h '\n",
    "\n",
    "df,x = gmm.getCols(dfTh,lx,ly,lz)\n",
    "gmm.plot1dlog(x, time, llim=1, lim = 18, xlabel=lx, nbins = 400.0)"
   ]
  },
  {
   "cell_type": "markdown",
   "id": "f342796f",
   "metadata": {},
   "source": [
    "Set the m-Gaussians means and variances (Cs) "
   ]
  },
  {
   "cell_type": "code",
   "execution_count": null,
   "id": "f69fd74e-43d2-4778-98b3-6383bc03b9df",
   "metadata": {},
   "outputs": [],
   "source": [
    "m = 3\n",
    "hour = '24'\n",
    "sufx = ''\n",
    "\n",
    "res0 = pd.DataFrame( {'means 0':[15.1],'Cs V450-A 0':[0.13],\n",
    "                      'means 1':[14.3],'Cs V450-A 1':[0.05],\n",
    "                      'means 2':[13.4],'Cs V450-A 2':[0.08]})\n",
    "\n",
    "print(res0)"
   ]
  },
  {
   "cell_type": "markdown",
   "id": "1bd4017d",
   "metadata": {},
   "source": [
    "Run the GMM the first plot shows the gaussians fit, the second the prior probability of each gaussian"
   ]
  },
  {
   "cell_type": "code",
   "execution_count": null,
   "id": "88972fc8-e5d1-40d2-87c7-fac4557e921e",
   "metadata": {},
   "outputs": [],
   "source": [
    "means,Cs,ws = gmm.runGM(hour,dim,m,dfTh,res0,sufx,outf=True,show=False,cond=False,xlabel=xlabel,ylabel=ylabel,zlabel=zlabel)\n",
    "plt.show()\n",
    "\n",
    "dfW = dfTh.copy()\n",
    "\n",
    "for k in range(m):\n",
    "    dfW.loc[:,'w'+str(k)] = ws[k]"
   ]
  },
  {
   "cell_type": "code",
   "execution_count": null,
   "id": "4aa70981-55f7-4045-bd4a-98e944005f7a",
   "metadata": {},
   "outputs": [],
   "source": [
    "dfW"
   ]
  },
  {
   "cell_type": "code",
   "execution_count": null,
   "id": "5d83bba0-f135-4f7d-89cd-47322111780d",
   "metadata": {},
   "outputs": [],
   "source": []
  }
 ],
 "metadata": {
  "kernelspec": {
   "display_name": "Python 3 (ipykernel)",
   "language": "python",
   "name": "python3"
  },
  "language_info": {
   "codemirror_mode": {
    "name": "ipython",
    "version": 3
   },
   "file_extension": ".py",
   "mimetype": "text/x-python",
   "name": "python",
   "nbconvert_exporter": "python",
   "pygments_lexer": "ipython3",
   "version": "3.11.5"
  }
 },
 "nbformat": 4,
 "nbformat_minor": 5
}
