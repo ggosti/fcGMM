{
 "cells": [
  {
   "cell_type": "markdown",
   "id": "3333c984",
   "metadata": {},
   "source": [
    "# Check if the fcs files are in the data folder\n",
    "\n",
    "List the files in the data folder, you should see the fcs files you want to analyze."
   ]
  },
  {
   "cell_type": "code",
   "execution_count": null,
   "id": "28c87415",
   "metadata": {},
   "outputs": [],
   "source": [
    "%ls data"
   ]
  },
  {
   "cell_type": "markdown",
   "id": "560cdc92",
   "metadata": {},
   "source": [
    "# Check the config file"
   ]
  },
  {
   "cell_type": "code",
   "execution_count": null,
   "id": "ed255bc8",
   "metadata": {},
   "outputs": [],
   "source": [
    "%ls *.dat"
   ]
  },
  {
   "cell_type": "code",
   "execution_count": null,
   "id": "5ad426b2",
   "metadata": {},
   "outputs": [],
   "source": [
    "!more dataCTV.dat"
   ]
  },
  {
   "cell_type": "markdown",
   "id": "b134f143",
   "metadata": {},
   "source": [
    "# Run initialization\n",
    "\n",
    "Prepare folders for outputs and configurations"
   ]
  },
  {
   "cell_type": "code",
   "execution_count": null,
   "id": "ded487e5",
   "metadata": {
    "scrolled": true
   },
   "outputs": [],
   "source": [
    "import os\n",
    "import fcGMM as gmm\n",
    "\n",
    "dirEx = os.getcwd() +'/'\n",
    "print('cwd', dirEx)\n",
    "\n",
    "dirRes = dirEx+'result-data/'\n",
    "if not os.path.exists(dirRes):\n",
    "    os.makedirs(dirRes)\n",
    "dirInit = dirEx+'init/'\n",
    "if not os.path.exists(dirInit):\n",
    "    os.makedirs(dirInit)\n",
    "dirClean = dirEx+'cleaned/'\n",
    "if not os.path.exists(dirClean):\n",
    "    os.makedirs(dirClean)\n",
    "dirPlots = dirEx+'plots/'\n",
    "if not os.path.exists(dirPlots):\n",
    "    os.makedirs(dirPlots)\n",
    "    \n",
    "datafile = {}\n",
    "sufx = 'dataCTV'\n",
    "\n",
    "xlab = 'V450-A'\n",
    "ylab = None\n",
    "zlab = None\n",
    "\n",
    "datadir = ''\n",
    "with open(sufx+'.dat') as f:\n",
    "    print('read .dat')\n",
    "    for line in f:\n",
    "        line = line[:-1]\n",
    "        #print(line)\n",
    "        #print(line.split(':'))\n",
    "        if os.path.isdir(dirEx+line):\n",
    "            datadir = dirEx+line\n",
    "        elif os.path.isfile(datadir+line.split(':')[-1]):\n",
    "            try:\n",
    "                datafile[int(line.split(':')[0])] = datadir+line.split(':')[-1]\n",
    "            except:\n",
    "                datafile[line.split(':')[0]] = datadir+line.split(':')[-1]\n",
    "        else:\n",
    "            print('line error', datadir+line.split(':')[-1])\n",
    "            print('file does not exist',os.path.isfile(datadir+line.split(':')[-1]))\n",
    "            print('dir does not exist',os.path.isdir(dirEx+line) )\n",
    "\n",
    "names = gmm.getAq(datafile)\n",
    "print('-------------------run preprocessing-------------------------')\n",
    "dataframe = gmm.doPreproc(datafile, sufx, names, dirClean,xlab,ylab,zlab)"
   ]
  },
  {
   "cell_type": "code",
   "execution_count": null,
   "id": "27ae03d7",
   "metadata": {
    "scrolled": false
   },
   "outputs": [],
   "source": [
    "!python runFcGMM.py --preprocessing --dim 1 -i CTV"
   ]
  },
  {
   "cell_type": "code",
   "execution_count": null,
   "id": "f87555d6",
   "metadata": {},
   "outputs": [],
   "source": []
  }
 ],
 "metadata": {
  "kernelspec": {
   "display_name": "Python 3 (ipykernel)",
   "language": "python",
   "name": "python3"
  },
  "language_info": {
   "codemirror_mode": {
    "name": "ipython",
    "version": 3
   },
   "file_extension": ".py",
   "mimetype": "text/x-python",
   "name": "python",
   "nbconvert_exporter": "python",
   "pygments_lexer": "ipython3",
   "version": "3.9.13"
  }
 },
 "nbformat": 4,
 "nbformat_minor": 5
}
